{
 "cells": [
  {
   "cell_type": "code",
   "execution_count": 5,
   "metadata": {},
   "outputs": [
    {
     "name": "stdout",
     "output_type": "stream",
     "text": [
      "Connected to the database\n",
      "Deleted non-Islamabad and non-Rawalpindi locations\n",
      "Deleted agencies not linked to Islamabad or Rawalpindi properties\n",
      "Deleted agents not linked to Islamabad or Rawalpindi agencies\n",
      "Deleted properties not located in Islamabad or Rawalpindi\n",
      "Changes committed successfully\n",
      "Database connection closed\n"
     ]
    }
   ],
   "source": [
    "import psycopg2\n",
    "\n",
    "# Database connection parameters\n",
    "DATABASE_TYPE = 'postgresql'\n",
    "DB_USER = 'postgres'  # Your PostgreSQL username\n",
    "DB_PASSWORD = 'BestPasswordEver'  # Your PostgreSQL password\n",
    "DB_HOST = '34.133.41.198'  # External IP of your VM or database host\n",
    "DB_PORT = '5432'  # Default PostgreSQL port\n",
    "DB_NAME = 'postgres'  # Database name\n",
    "\n",
    "# Connect to your PostgreSQL database\n",
    "try:\n",
    "    connection = psycopg2.connect(\n",
    "        dbname=DB_NAME,\n",
    "        user=DB_USER,\n",
    "        password=DB_PASSWORD,\n",
    "        host=DB_HOST,\n",
    "        port=DB_PORT\n",
    "    )\n",
    "    cursor = connection.cursor()\n",
    "    print(\"Connected to the database\")\n",
    "\n",
    "    # Delete from location table where city is not Islamabad or Rawalpindi\n",
    "    cursor.execute(\"\"\"\n",
    "        DELETE FROM location\n",
    "        WHERE city NOT IN ('Islamabad', 'Rawalpindi');\n",
    "    \"\"\")\n",
    "    print(\"Deleted non-Islamabad and non-Rawalpindi locations\")\n",
    "\n",
    "    # Delete from agency table if agencies are linked to locations\n",
    "    cursor.execute(\"\"\"\n",
    "        DELETE FROM agency\n",
    "        WHERE agency_id NOT IN (\n",
    "            SELECT DISTINCT agency_id FROM property WHERE location_id IN (\n",
    "                SELECT location_id FROM location WHERE city IN ('Islamabad', 'Rawalpindi')\n",
    "            )\n",
    "        );\n",
    "    \"\"\")\n",
    "    print(\"Deleted agencies not linked to Islamabad or Rawalpindi properties\")\n",
    "\n",
    "    # Delete from agent table if agents are linked to agencies\n",
    "    cursor.execute(\"\"\"\n",
    "        DELETE FROM agent\n",
    "        WHERE agent_id NOT IN (\n",
    "            SELECT DISTINCT agent_id FROM agency WHERE agency_id IN (\n",
    "                SELECT agency_id FROM property WHERE location_id IN (\n",
    "                    SELECT location_id FROM location WHERE city IN ('Islamabad', 'Rawalpindi')\n",
    "                )\n",
    "            )\n",
    "        );\n",
    "    \"\"\")\n",
    "    print(\"Deleted agents not linked to Islamabad or Rawalpindi agencies\")\n",
    "\n",
    "    # Delete from property table where location is not in Islamabad or Rawalpindi\n",
    "    cursor.execute(\"\"\"\n",
    "        DELETE FROM property\n",
    "        WHERE location_id NOT IN (\n",
    "            SELECT location_id FROM location WHERE city IN ('Islamabad', 'Rawalpindi')\n",
    "        );\n",
    "    \"\"\")\n",
    "    print(\"Deleted properties not located in Islamabad or Rawalpindi\")\n",
    "\n",
    "    # Commit the changes\n",
    "    connection.commit()\n",
    "    print(\"Changes committed successfully\")\n",
    "\n",
    "except Exception as e:\n",
    "    print(\"An error occurred:\", e)\n",
    "finally:\n",
    "    # Close the cursor and connection\n",
    "    if cursor:\n",
    "        cursor.close()\n",
    "    if connection:\n",
    "        connection.close()\n",
    "    print(\"Database connection closed\")"
   ]
  },
  {
   "cell_type": "code",
   "execution_count": null,
   "metadata": {},
   "outputs": [],
   "source": []
  }
 ],
 "metadata": {
  "kernelspec": {
   "display_name": "Python 3",
   "language": "python",
   "name": "python3"
  },
  "language_info": {
   "codemirror_mode": {
    "name": "ipython",
    "version": 3
   },
   "file_extension": ".py",
   "mimetype": "text/x-python",
   "name": "python",
   "nbconvert_exporter": "python",
   "pygments_lexer": "ipython3",
   "version": "3.12.4"
  }
 },
 "nbformat": 4,
 "nbformat_minor": 2
}
